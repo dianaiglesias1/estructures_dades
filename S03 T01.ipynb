{
 "cells": [
  {
   "cell_type": "markdown",
   "id": "b523f548",
   "metadata": {},
   "source": [
    "## S03 T01: Estructura de dades"
   ]
  },
  {
   "cell_type": "markdown",
   "id": "2a0c96ab",
   "metadata": {},
   "source": [
    "### **Exercici 1**"
   ]
  },
  {
   "cell_type": "markdown",
   "id": "92a32454",
   "metadata": {},
   "source": [
    "Crea una llista que agrupi els mesos de l’any en trimestres (1T: Gener, Febrer i Març, 2T: Abril, Maig, Juny...), és a dir, una llista amb 4 llistes dins."
   ]
  },
  {
   "cell_type": "code",
   "execution_count": 2,
   "id": "35a90c23",
   "metadata": {},
   "outputs": [
    {
     "name": "stdout",
     "output_type": "stream",
     "text": [
      "['1T', ['Gener', 'Febrer', 'Març'], '2T', ['Abril', 'Maig', 'Juny'], '3T', ['Juliol', 'Agost', 'Setembre'], '4T', ['Octubre', 'Novembre', 'Desembre']]\n"
     ]
    }
   ],
   "source": [
    "any=[\"1T\",[\"Gener\", \"Febrer\", \"Març\"],\"2T\",[\"Abril\", \"Maig\", \"Juny\"],\"3T\",[\"Juliol\", \"Agost\", \"Setembre\"],\"4T\",[\"Octubre\", \"Novembre\", \"Desembre\"]]\n",
    "print(any)"
   ]
  },
  {
   "cell_type": "markdown",
   "id": "532941e1",
   "metadata": {},
   "source": [
    "### **Exercici 2**"
   ]
  },
  {
   "cell_type": "markdown",
   "id": "2d3bd6eb",
   "metadata": {},
   "source": [
    "Crea un codi que et permeti accedir a:\n",
    "\n",
    "2.1 El segon mes del primer trimestre"
   ]
  },
  {
   "cell_type": "code",
   "execution_count": 26,
   "id": "0468e56f",
   "metadata": {},
   "outputs": [
    {
     "name": "stdout",
     "output_type": "stream",
     "text": [
      "Febrer\n"
     ]
    }
   ],
   "source": [
    "print(any[1][1])"
   ]
  },
  {
   "cell_type": "markdown",
   "id": "f13b5e8d",
   "metadata": {},
   "source": [
    "2.2 Els mesos del primer trimestre"
   ]
  },
  {
   "cell_type": "code",
   "execution_count": 27,
   "id": "83082e83",
   "metadata": {},
   "outputs": [
    {
     "name": "stdout",
     "output_type": "stream",
     "text": [
      "['Gener', 'Febrer', 'Març']\n"
     ]
    }
   ],
   "source": [
    "print(any[1][0:3])"
   ]
  },
  {
   "cell_type": "markdown",
   "id": "b86c0bcb",
   "metadata": {},
   "source": [
    "2.3 Setembre i octubre"
   ]
  },
  {
   "cell_type": "code",
   "execution_count": 31,
   "id": "45d36a5a",
   "metadata": {},
   "outputs": [
    {
     "name": "stdout",
     "output_type": "stream",
     "text": [
      "Setembre i Octubre\n"
     ]
    }
   ],
   "source": [
    "print(any[5][2] + \" i \" + any[7][0])"
   ]
  },
  {
   "cell_type": "markdown",
   "id": "4ca1f1a7",
   "metadata": {},
   "source": [
    "### Exercici 3"
   ]
  },
  {
   "cell_type": "markdown",
   "id": "cec83f68",
   "metadata": {},
   "source": [
    "Crea una llista amb nombres desordenats i respon a les següents preguntes:"
   ]
  },
  {
   "cell_type": "code",
   "execution_count": 36,
   "id": "fedd780e",
   "metadata": {},
   "outputs": [
    {
     "name": "stdout",
     "output_type": "stream",
     "text": [
      "[2, 1, 3, 80, 40, 9, 34, 6, 5]\n"
     ]
    }
   ],
   "source": [
    "llista=[2,1,3,80,40,9,34,6,5]\n",
    "print(llista)"
   ]
  },
  {
   "cell_type": "markdown",
   "id": "1ba7a24c",
   "metadata": {},
   "source": [
    "- Quants números hi ha?"
   ]
  },
  {
   "cell_type": "code",
   "execution_count": 37,
   "id": "d346a6a1",
   "metadata": {},
   "outputs": [
    {
     "name": "stdout",
     "output_type": "stream",
     "text": [
      "La llista conté 9 números\n"
     ]
    }
   ],
   "source": [
    "var_llista=len(llista)\n",
    "print(\"La llista conté \" + (str)(var_llista) + \" números\")"
   ]
  },
  {
   "cell_type": "markdown",
   "id": "42ce7a47",
   "metadata": {},
   "source": [
    "- Quantes vegades apareix el número 3?"
   ]
  },
  {
   "cell_type": "code",
   "execution_count": 38,
   "id": "7e8890d4",
   "metadata": {},
   "outputs": [
    {
     "name": "stdout",
     "output_type": "stream",
     "text": [
      "El número 3 apareix 1 vegada/es\n"
     ]
    }
   ],
   "source": [
    "x=llista.count(3)\n",
    "print(\"El número 3 apareix \" + str(x) + \" vegada/es\")"
   ]
  },
  {
   "cell_type": "markdown",
   "id": "67e32f8b",
   "metadata": {},
   "source": [
    "- Quantes vegades apareixen els nombres 3 i 4?"
   ]
  },
  {
   "cell_type": "code",
   "execution_count": 39,
   "id": "157f82ba",
   "metadata": {},
   "outputs": [
    {
     "name": "stdout",
     "output_type": "stream",
     "text": [
      "El número 3 apareix 1 vegada/es i el número 4 apareix 0 vegada/es\n"
     ]
    }
   ],
   "source": [
    "x=llista.count(3)\n",
    "y=llista.count(4)\n",
    "print(\"El número 3 apareix \" + str(x) + \" vegada/es i el número 4 apareix \" + str(y) + \" vegada/es\") "
   ]
  },
  {
   "cell_type": "markdown",
   "id": "c0dba3cf",
   "metadata": {},
   "source": [
    "- Quin és el número més gran?"
   ]
  },
  {
   "cell_type": "code",
   "execution_count": 40,
   "id": "8a295af2",
   "metadata": {},
   "outputs": [
    {
     "name": "stdout",
     "output_type": "stream",
     "text": [
      "El número més gran de la llista és el 80\n"
     ]
    }
   ],
   "source": [
    "maxim=max(llista)\n",
    "print(\"El número més gran de la llista és el \" + str(maxim))"
   ]
  },
  {
   "cell_type": "markdown",
   "id": "fb0a3b62",
   "metadata": {},
   "source": [
    "- Quins són els 3 números més petits?"
   ]
  },
  {
   "cell_type": "code",
   "execution_count": 41,
   "id": "c3088618",
   "metadata": {},
   "outputs": [
    {
     "name": "stdout",
     "output_type": "stream",
     "text": [
      "[1, 2, 3, 5, 6, 9, 34, 40, 80]\n"
     ]
    }
   ],
   "source": [
    "#primer ordenem la llista\n",
    "\n",
    "llista.sort()\n",
    "print(llista)"
   ]
  },
  {
   "cell_type": "code",
   "execution_count": 42,
   "id": "7af1a9c7",
   "metadata": {},
   "outputs": [
    {
     "name": "stdout",
     "output_type": "stream",
     "text": [
      "[1, 2, 3]\n"
     ]
    }
   ],
   "source": [
    "#ara li demanem que ens retorni els tres primers valors\n",
    "print(llista[:3])"
   ]
  },
  {
   "cell_type": "markdown",
   "id": "b3ce2b3a",
   "metadata": {},
   "source": [
    "- Quin és el rang d’aquesta llista?"
   ]
  },
  {
   "cell_type": "code",
   "execution_count": 98,
   "id": "2df52191",
   "metadata": {},
   "outputs": [
    {
     "name": "stdout",
     "output_type": "stream",
     "text": [
      "[1, 2, 3, 5, 6, 9, 34, 40, 80]\n"
     ]
    }
   ],
   "source": [
    "print(llista[0:9])"
   ]
  },
  {
   "cell_type": "markdown",
   "id": "7207167f",
   "metadata": {},
   "source": [
    "### Exercici 4"
   ]
  },
  {
   "cell_type": "markdown",
   "id": "5670cbfe",
   "metadata": {},
   "source": [
    "Crea un diccionari de la següent forma i respon a les preguntes:\n",
    "\n",
    "compra = { \"Pomes\" : {\"Qty\": 5, \"€\": 0.42}, \"Peres\" : {\"Qty\": 3, \"€\": 0.66} }"
   ]
  },
  {
   "cell_type": "code",
   "execution_count": 5,
   "id": "c6612a61",
   "metadata": {},
   "outputs": [
    {
     "name": "stdout",
     "output_type": "stream",
     "text": [
      "{'pomes': {'Qty': 5, '€': 0.42}, 'peres': {'Qty': 3, '€': 0.66}}\n"
     ]
    }
   ],
   "source": [
    "compra={\n",
    "    \"pomes\": {\n",
    "        \"Qty\":5,\n",
    "        \"€\":0.42\n",
    "    },\n",
    "    \"peres\": {\n",
    "        \"Qty\": 3,\n",
    "        \"€\": 0.66\n",
    "    }\n",
    "}\n",
    "print(compra)"
   ]
  },
  {
   "cell_type": "markdown",
   "id": "4cc016eb",
   "metadata": {},
   "source": [
    "- Afegeix alguna fruita més"
   ]
  },
  {
   "cell_type": "code",
   "execution_count": 6,
   "id": "6b57a248",
   "metadata": {},
   "outputs": [
    {
     "name": "stdout",
     "output_type": "stream",
     "text": [
      "{'pomes': {'Qty': 5, '€': 0.42}, 'peres': {'Qty': 3, '€': 0.66}, 'mandarines': {'Qty': 6, '€': 1.5}, 'platans': {'Qty': 4, '€': 1.99}}\n"
     ]
    }
   ],
   "source": [
    "compra[\"mandarines\"]={'Qty': 6, '€': 1.50}\n",
    "compra[\"platans\"]={'Qty': 4, '€': 1.99}\n",
    "\n",
    "print(compra)"
   ]
  },
  {
   "cell_type": "markdown",
   "id": "2dca0fe2",
   "metadata": {},
   "source": [
    "- Quant han costat les peres en total?"
   ]
  },
  {
   "cell_type": "code",
   "execution_count": 7,
   "id": "b4e24a21",
   "metadata": {},
   "outputs": [
    {
     "name": "stdout",
     "output_type": "stream",
     "text": [
      "El cost total de les peres és de: 1.98 euros\n"
     ]
    }
   ],
   "source": [
    "#he localitzat el valors que ens interessa de la key ('peres') que són ('Qty') i ('€'). Un cop localitzats, \n",
    "#multipliquem preu per quantitat per obtenir el cost total\n",
    "\n",
    "preu_peres=compra['peres']['Qty']\n",
    "unitats_peres=compra['peres']['€']\n",
    "cost_peres=preu_peres*unitats_peres\n",
    "print(\"El cost total de les peres és de: \" + str(cost_peres) + ' euros')"
   ]
  },
  {
   "cell_type": "markdown",
   "id": "1fc54382",
   "metadata": {},
   "source": [
    "- Quantes fruites hem comprat en total?"
   ]
  },
  {
   "cell_type": "code",
   "execution_count": 195,
   "id": "0f2e29b0",
   "metadata": {},
   "outputs": [
    {
     "name": "stdout",
     "output_type": "stream",
     "text": [
      "Hem comprat un total de 18 peces de fruita\n"
     ]
    }
   ],
   "source": [
    "#creem variable per a emmagatzemar tots els valors que necessitem sumar\n",
    "\n",
    "total_fruites = 0\n",
    "  \n",
    "# iterem els parells key,value\n",
    "for key,value in compra.items():\n",
    "    \n",
    "      #si el valor 'Qty' es troba com a valor, els anirem sumant a cada loop\n",
    "    if value and 'Qty' in value.keys():\n",
    "        total_fruites += value['Qty'] \n",
    "  \n",
    "print(\"Hem comprat un total de \"+ str(total_fruites) + \" peces de fruita\")"
   ]
  },
  {
   "cell_type": "markdown",
   "id": "9241f496",
   "metadata": {},
   "source": [
    "- Quina fruita és la més cara?"
   ]
  },
  {
   "cell_type": "code",
   "execution_count": 196,
   "id": "0794f8ef",
   "metadata": {},
   "outputs": [
    {
     "name": "stdout",
     "output_type": "stream",
     "text": [
      "[0.42, 0.66, 1.5, 1.99]\n"
     ]
    }
   ],
   "source": [
    "#fem extracció del subvalor \"€\"\n",
    "\n",
    "preus=\"€\"\n",
    "llista_preus = [sub[preus] for sub in compra.values() if preus in sub.keys()]\n",
    "print(llista_preus)"
   ]
  },
  {
   "cell_type": "code",
   "execution_count": 197,
   "id": "43d90e8d",
   "metadata": {},
   "outputs": [
    {
     "name": "stdout",
     "output_type": "stream",
     "text": [
      "{'peres': 0.42, 'pomes': 0.66, 'mandarines': 1.5, 'platans': 1.99}\n"
     ]
    }
   ],
   "source": [
    "#fem un nou diccionari només amb el key(tipus de fruita) i el preu\n",
    "\n",
    "nova_compra = {key: value for key, value in zip(keys, llista_preus)}\n",
    "print(nova_compra)"
   ]
  },
  {
   "cell_type": "code",
   "execution_count": 198,
   "id": "fb99afd1",
   "metadata": {},
   "outputs": [
    {
     "name": "stdout",
     "output_type": "stream",
     "text": [
      "La fruita més cara és: (1.99, 'platans')\n"
     ]
    }
   ],
   "source": [
    "#trobem el màxim dels valors. Amb la clau \"zip\" el que fem es crear llistes per a cada key i valor. El que ens\n",
    "#interessa és posar el valor primer perquè ens ordeni de forma correcta. En cas contrari, ens ordenaria per key i\n",
    "#no per valor\n",
    "\n",
    "preu_max=max(zip(nova_compra.values(),nova_compra.keys()))\n",
    "print(\"La fruita més cara és: \" + str(preu_max))"
   ]
  }
 ],
 "metadata": {
  "kernelspec": {
   "display_name": "Python 3",
   "language": "python",
   "name": "python3"
  },
  "language_info": {
   "codemirror_mode": {
    "name": "ipython",
    "version": 3
   },
   "file_extension": ".py",
   "mimetype": "text/x-python",
   "name": "python",
   "nbconvert_exporter": "python",
   "pygments_lexer": "ipython3",
   "version": "3.8.8"
  }
 },
 "nbformat": 4,
 "nbformat_minor": 5
}
